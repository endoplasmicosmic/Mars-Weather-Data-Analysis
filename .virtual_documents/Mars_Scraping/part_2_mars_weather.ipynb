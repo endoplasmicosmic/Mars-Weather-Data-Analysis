


# Import relevant libraries
from splinter import Browser
from bs4 import BeautifulSoup
import matplotlib.pyplot as plt
import pandas as pd
import os
import numpy as np


browser = Browser('chrome')





# Visit the website
# https://static.bc-edx.com/data/web/mars_facts/temperature.html
url = "https://static.bc-edx.com/data/web/mars_facts/temperature.html"
browser.visit(url)





# Create a Beautiful Soup Object
html = browser.html
soup = BeautifulSoup(html, 'html.parser')


# Extract all rows of data
rows = soup.find_all('tr', class_='data-row')





# Create an empty list
data = []
# Loop through the scraped data to create a list of rows
for row in rows:
    cells = row.find_all('td')
    row_data = [cell.text.strip() for cell in cells]
    data.append(row_data)


# Create a Pandas DataFrame by using the list of rows and a list of the column names
columns = ["id", "terrestrial_date", "sol", "ls", "month", "min_temp", "pressure"]
df = pd.DataFrame(data, columns=columns)


# Confirm DataFrame was created successfully
df.head()





# Examine data type of each column
print(df.dtypes)


# Change data types for data analysis
df['terrestrial_date'] = pd.to_datetime(df['terrestrial_date'])
df['sol'] = df['sol'].astype(int)
df['ls'] = df['ls'].astype(float)
df['month'] = df['month'].astype(int)
df['min_temp'] = df['min_temp'].astype(float)
df['pressure'] = df['pressure'].astype(float)


# Confirm type changes were successful by examining data types again
print(df.dtypes)





# 1. How many months are there on Mars?
mars_months = df['month'].value_counts().sort_index()
mars_months.index.name = None
print(mars_months)


# 2. How many Martian days' worth of data are there?
martian_days_by_month = df['sol'].nunique()
print(martian_days_by_month)


# 3. What is the average low temperature by month?
average_low_temp_by_month = df.groupby('month')['min_temp'].mean()
print(average_low_temp_by_month)


# Plot the average temperature by month
plt.figure(figsize=(10, 5))
average_low_temp_by_month.plot(kind='bar')
#plt.gca().invert_yaxis()
plt.xlabel('Month')
plt.ylabel('Average Low Temperature (Celsius)')
plt.title('Average Low Temperature by Month on Mars')
plt.savefig('Chart_Visuals/average_low_temperature_by_month.png')
plt.show()


# Identify the coldest and hottest months in Curiosity's location
average_low_temp_by_month_sorted = average_low_temp_by_month.sort_values(ascending=True)
colors = plt.cm.coolwarm(np.linspace(0, 1, len(average_low_temp_by_month_sorted)))
plt.figure(figsize=(10, 5))
average_low_temp_by_month_sorted.plot(kind='bar', color=colors)
plt.xlabel('Month')
plt.ylabel('Average Low Temperature (Celsius)')
plt.title('Average Low Temperature by Month on Mars (Sorted by Temperature)')
plt.savefig('Chart_Visuals/average_low_temperature_by_month_sorted.png')
plt.show()



# 4. Average pressure by Martian month
average_pressure_by_month = df.groupby('month')['pressure'].mean()
print(average_pressure_by_month)


# Plot the average pressure by month
average_pressure_by_month = average_pressure_by_month.sort_values(ascending=True)
plt.figure(figsize=(10, 5))
average_pressure_by_month.plot(kind='bar')
plt.xlabel('Month')
plt.ylabel('Average Pressure')
plt.title('Average Pressure by Month on Mars')
plt.savefig('Chart_Visuals/average_pressure_by_month.png')
plt.show()


# 5. How many terrestrial (earth) days are there in a Martian year?
plt.figure(figsize=(10, 5))
plt.plot(df['min_temp'])
plt.xlabel('Number Of Terrestrial Date')
plt.ylabel('Minimum Temperature (Celsius)')
plt.title('Daily Minimum Temperature on Mars')
plt.savefig('Chart_Visuals/daily_minimum_temperature.png')
plt.show()














# Write the data to a CSV
df.to_csv('mars_weather_data.csv', index=False)


browser.quit()



