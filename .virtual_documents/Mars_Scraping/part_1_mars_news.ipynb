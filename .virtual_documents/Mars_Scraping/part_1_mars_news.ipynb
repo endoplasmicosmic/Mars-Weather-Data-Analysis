


# Import Splinter and BeautifulSoup
from splinter import Browser
from bs4 import BeautifulSoup


browser = Browser('chrome')





# Visit the Mars news site
url = 'https://static.bc-edx.com/data/web/mars_news/index.html'
browser.visit(url)





# Create a Beautiful Soup object
html = browser.html
soup = BeautifulSoup(html, 'html.parser')


# Extract all the text elements
articles = soup.find_all('div', class_='list_text')





# Create an empty list to store the dictionaries
news_list = []


# Loop through the text elements
# Extract the title and preview text from the elements
# Store each title and preview pair in a dictionary
# Add the dictionary to the list
for article in articles:
    title = article.find('div', class_='content_title').get_text()
    preview = article.find('div', class_='article_teaser_body').get_text()
    news_list.append({'title': title, 'preview': preview})


# Print the list to confirm success
news_list


browser.quit()



